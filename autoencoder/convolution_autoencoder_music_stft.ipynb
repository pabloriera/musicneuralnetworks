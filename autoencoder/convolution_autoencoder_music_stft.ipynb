{
 "cells": [
  {
   "cell_type": "markdown",
   "metadata": {},
   "source": [
    "# Convolutional autoencoder on STFT data\n",
    "\n",
    "Taken from https://github.com/pkmital/tensorflow_tutorials/blob/master/python/08_denoising_autoencoder.py"
   ]
  },
  {
   "cell_type": "code",
   "execution_count": null,
   "metadata": {
    "collapsed": false
   },
   "outputs": [],
   "source": [
    "from __future__ import division, print_function, absolute_import\n",
    "%pylab notebook\n",
    "\n",
    "import tensorflow as tf\n",
    "import numpy as np\n",
    "import os\n",
    "import librosa\n",
    "import librosa.display\n",
    "from  librosa.util import frame\n",
    "from scipy.signal import resample\n",
    "\n",
    "%run ../utils.py\n",
    "%run nnutils.py"
   ]
  },
  {
   "cell_type": "code",
   "execution_count": null,
   "metadata": {
    "collapsed": false
   },
   "outputs": [],
   "source": [
    "path = \"../wavs/\"\n",
    "fname = 'Grisey_partiels.wav'\n",
    "\n",
    "name = fname[:-4]\n",
    "\n",
    "filename = path+fname\n",
    "\n",
    "fs,track = wav2audio_segment(filename,100,160)\n",
    "\n",
    "track = resample(track,int(track.size/2.0))\n",
    "fs = fs/2.0\n",
    "\n",
    "NFFT = 2**11\n",
    "HOP = int(NFFT/4)\n",
    "\n",
    "STFT = librosa.stft(track,n_fft=NFFT, hop_length=HOP,center=True)\n",
    "\n",
    "X = abs(STFT)**2\n",
    "\n",
    "block_length = 16\n",
    "idx = frame(arange(X.shape[1]),frame_length=block_length, hop_length=int(block_length/4))\n",
    "X_blocks = abs(X)[:,idx]\n",
    "X_blocks = np.rollaxis(X_blocks,2)"
   ]
  },
  {
   "cell_type": "code",
   "execution_count": null,
   "metadata": {
    "collapsed": false
   },
   "outputs": [],
   "source": [
    "figure(figsize=(14,6))\n",
    "librosa.display.specshow(librosa.logamplitude(X,ref_power=np.max),hop_length = HOP, sr=fs,y_axis='mel', fmax=8000, x_axis='time')\n",
    "colorbar(label='Intensity (dB)')   "
   ]
  },
  {
   "cell_type": "code",
   "execution_count": null,
   "metadata": {
    "collapsed": false
   },
   "outputs": [],
   "source": [
    "print(\"Dimensions: data length, freq bins, time bins\")\n",
    "total_length, freq_bins,time_bins = X_blocks.shape\n",
    "print(total_length, freq_bins,time_bins)\n",
    "print(\"Number of frames per block\",block_length)\n",
    "print(block_length*NFFT/fs,'seconds')\n",
    "print(\"Overlap of frames per block:\",block_length/2)\n",
    "print(block_length*NFFT/fs/2,'seconds')"
   ]
  },
  {
   "cell_type": "markdown",
   "metadata": {},
   "source": [
    "## Create dataset  (Data class) with spectrum frames"
   ]
  },
  {
   "cell_type": "code",
   "execution_count": null,
   "metadata": {
    "collapsed": false
   },
   "outputs": [],
   "source": [
    "meanX = X_blocks.mean(0)\n",
    "stdX = X_blocks.std(0)+0.001\n",
    "X_blocks_ = (X_blocks-meanX)/stdX\n",
    "data = Data( X_blocks_.reshape((X_blocks.shape[0],freq_bins*time_bins)) )\n",
    "print(X_blocks.min(),X_blocks.max())"
   ]
  },
  {
   "cell_type": "markdown",
   "metadata": {},
   "source": [
    "## Convolutional Autoencoder parameters"
   ]
  },
  {
   "cell_type": "code",
   "execution_count": null,
   "metadata": {
    "collapsed": false
   },
   "outputs": [],
   "source": [
    "display_step = 10\n",
    "batch_size = 400\n",
    "n_epochs = 300\n",
    "learning_rate = 0.002\n",
    "l2scale = 0.01\n",
    "n_filters=[16,16,16,16]\n",
    "n_features =  int(data.data.shape[1])\n",
    "input_shape = [None, n_features]\n",
    "filter_sizes = [4,4,4,2]\n",
    "strides = [[1, 2, 2, 1],\n",
    "           [1, 2, 2, 1],\n",
    "           [1, 2, 2, 1],\n",
    "           [1, 2, 2, 1]]"
   ]
  },
  {
   "cell_type": "code",
   "execution_count": null,
   "metadata": {
    "collapsed": false,
    "scrolled": true
   },
   "outputs": [],
   "source": [
    "cae = CAE(input_shape,freq_bins,time_bins, n_filters, filter_sizes, strides,learning_rate=learning_rate)\n",
    "cae.init_session()\n",
    "costlist = cae.train(data, batch_size, n_epochs)\n",
    "sess = cae.get_session()\n",
    "variables_dict = cae.get_variables_dict()"
   ]
  },
  {
   "cell_type": "code",
   "execution_count": null,
   "metadata": {
    "collapsed": false
   },
   "outputs": [],
   "source": [
    "cae.save(\"checkpoints/CAE1\")"
   ]
  },
  {
   "cell_type": "code",
   "execution_count": null,
   "metadata": {
    "collapsed": false,
    "scrolled": false
   },
   "outputs": [],
   "source": [
    "figure(figsize=(8,4))\n",
    "plot(costlist,'g')\n",
    "ylabel('Cost')\n",
    "xlabel('Batchs Steps');"
   ]
  },
  {
   "cell_type": "code",
   "execution_count": null,
   "metadata": {
    "collapsed": false
   },
   "outputs": [],
   "source": [
    "duration = track.size/fs\n",
    "compare = range(0,total_length,1)\n",
    "recon = sess.run(variables_dict['Y'], feed_dict={ variables_dict['X']: data.data[compare]})\n",
    "\n",
    "original = data.data[compare]\n",
    "\n",
    "M = []\n",
    "for i,r in enumerate(original):\n",
    "    M.append( r.reshape(freq_bins,time_bins)*stdX+meanX)\n",
    "\n",
    "M2 = np.hstack(M)\n",
    "figure(figsize=(12,4))\n",
    "\n",
    "librosa.display.specshow(librosa.logamplitude(M2,ref_power=np.max),hop_length = HOP*block_length/2.0,sr=fs*block_length,y_axis='mel', fmax=8000, x_axis='time')\n",
    "title('Input')\n",
    "colorbar(label='Intensity (dB)')\n",
    "\n",
    "M = []\n",
    "for i,r in enumerate(recon):\n",
    "    M.append( r.reshape(freq_bins,time_bins)*stdX )\n",
    "    \n",
    "M2 = np.hstack(M)\n",
    "figure(figsize=(12,4))\n",
    "\n",
    "librosa.display.specshow(librosa.logamplitude(M2,ref_power=np.max),hop_length = HOP*block_length/2.0,sr=fs*block_length,y_axis='mel', fmax=8000, x_axis='time')\n",
    "\n",
    "title('Autoencoded');\n",
    "colorbar(label='Intensity (dB)')\n"
   ]
  },
  {
   "cell_type": "code",
   "execution_count": null,
   "metadata": {
    "collapsed": false
   },
   "outputs": [],
   "source": [
    "figure()\n",
    "imshow(log10(original[50].reshape(freq_bins,time_bins)*stdX+meanX),aspect='auto')"
   ]
  }
 ],
 "metadata": {
  "kernelspec": {
   "display_name": "Python 3",
   "language": "python",
   "name": "python3"
  },
  "language_info": {
   "codemirror_mode": {
    "name": "ipython",
    "version": 3
   },
   "file_extension": ".py",
   "mimetype": "text/x-python",
   "name": "python",
   "nbconvert_exporter": "python",
   "pygments_lexer": "ipython3",
   "version": "3.4.3"
  }
 },
 "nbformat": 4,
 "nbformat_minor": 0
}
